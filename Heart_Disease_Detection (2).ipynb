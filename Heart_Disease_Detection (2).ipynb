{
  "nbformat": 4,
  "nbformat_minor": 0,
  "metadata": {
    "colab": {
      "provenance": []
    },
    "kernelspec": {
      "name": "python3",
      "display_name": "Python 3"
    },
    "language_info": {
      "name": "python"
    }
  },
  "cells": [
    {
      "cell_type": "code",
      "execution_count": 3,
      "metadata": {
        "colab": {
          "base_uri": "https://localhost:8080/"
        },
        "outputId": "5177ce77-334a-4373-82f3-b886b0368302",
        "id": "8PnY26lB-T8w"
      },
      "outputs": [
        {
          "output_type": "stream",
          "name": "stdout",
          "text": [
            "Best Model: LogisticRegression(C=0.1, penalty='l1', solver='liblinear')\n",
            "Mean Cross-Validation Accuracy: 0.8580256344962228\n",
            "Test Set Accuracy: 0.8015564202334631\n",
            "Confusion Matrix:\n",
            " [[ 94  38]\n",
            " [ 13 112]]\n",
            "Classification Report:\n",
            "               precision    recall  f1-score   support\n",
            "\n",
            "           0       0.88      0.71      0.79       132\n",
            "           1       0.75      0.90      0.81       125\n",
            "\n",
            "    accuracy                           0.80       257\n",
            "   macro avg       0.81      0.80      0.80       257\n",
            "weighted avg       0.81      0.80      0.80       257\n",
            "\n"
          ]
        }
      ],
      "source": [
        "import pandas as pd\n",
        "import numpy as np\n",
        "from sklearn.model_selection import train_test_split, GridSearchCV, cross_val_score\n",
        "from sklearn.preprocessing import StandardScaler\n",
        "from sklearn.linear_model import LogisticRegression\n",
        "from sklearn.metrics import accuracy_score, classification_report, confusion_matrix\n",
        "\n",
        "\n",
        "# Import the dataset\n",
        "data = pd.read_csv(\"heart.csv\")\n",
        "\n",
        "# Separate the features (X) and target (y)\n",
        "X = data.drop(\"target\", axis=1)  # Features\n",
        "y = data[\"target\"]  # Target variable\n",
        "\n",
        "# Split the dataset into train and test sets\n",
        "X_train, X_test, y_train, y_test = train_test_split(X, y, test_size=0.25, random_state=42)\n",
        "\n",
        "# Feature scaling using StandardScaler\n",
        "scaler = StandardScaler()\n",
        "X_train_scaled = scaler.fit_transform(X_train)\n",
        "X_test_scaled = scaler.transform(X_test)\n",
        "\n",
        "# Create a logistic regression model\n",
        "model = LogisticRegression()\n",
        "\n",
        "# Define the hyperparameters to tune\n",
        "hyperparameters = {\n",
        "    'C': [0.001, 0.01, 0.1, 1, 10, 100],  # Inverse of regularization strength\n",
        "    'penalty': ['l1', 'l2'],  # Regularization type\n",
        "    'solver': ['liblinear']  # Algorithm to use for optimization\n",
        "}\n",
        "\n",
        "# Perform grid search to find the best hyperparameters\n",
        "grid_search = GridSearchCV(model, hyperparameters, cv=5)\n",
        "grid_search.fit(X_train_scaled, y_train)\n",
        "\n",
        "# Get the best model with tuned hyperparameters\n",
        "best_model = grid_search.best_estimator_\n",
        "\n",
        "# Train the best model on the entire training set\n",
        "best_model.fit(X_train_scaled, y_train)\n",
        "\n",
        "# Evaluate the best model using cross-validation\n",
        "cv_scores = cross_val_score(best_model, X_train_scaled, y_train, cv=5)\n",
        "mean_cv_accuracy = np.mean(cv_scores)\n",
        "\n",
        "# Predict on the test set using the best model\n",
        "predictions = best_model.predict(X_test_scaled)\n",
        "\n",
        "# Calculate accuracy\n",
        "accuracy = accuracy_score(y_test, predictions)\n",
        "\n",
        "# Calculate confusion matrix and classification report\n",
        "confusion_mat = confusion_matrix(y_test, predictions)\n",
        "classification_rep = classification_report(y_test, predictions)\n",
        "\n",
        "# Print the results\n",
        "print(\"Best Model:\", best_model)\n",
        "print(\"Mean Cross-Validation Accuracy:\", mean_cv_accuracy)\n",
        "print(\"Test Set Accuracy:\", accuracy)\n",
        "print(\"Confusion Matrix:\\n\", confusion_mat)\n",
        "print(\"Classification Report:\\n\", classification_rep)\n"
      ]
    },
    {
      "cell_type": "code",
      "source": [
        " pwd"
      ],
      "metadata": {
        "id": "P0BIKJ959Qnv",
        "outputId": "746ec2ab-2403-4c66-9d1f-ede727cb6c3b",
        "colab": {
          "base_uri": "https://localhost:8080/",
          "height": 36
        }
      },
      "execution_count": null,
      "outputs": [
        {
          "output_type": "execute_result",
          "data": {
            "text/plain": [
              "'/content'"
            ],
            "application/vnd.google.colaboratory.intrinsic+json": {
              "type": "string"
            }
          },
          "metadata": {},
          "execution_count": 2
        }
      ]
    }
  ]
}